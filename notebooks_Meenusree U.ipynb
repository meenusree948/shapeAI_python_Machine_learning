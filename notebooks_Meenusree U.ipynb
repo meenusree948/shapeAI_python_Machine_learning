{
  "metadata": {
    "kernelspec": {
      "name": "python",
      "display_name": "Python (Pyodide)",
      "language": "python"
    },
    "language_info": {
      "codemirror_mode": {
        "name": "python",
        "version": 3
      },
      "file_extension": ".py",
      "mimetype": "text/x-python",
      "name": "python",
      "nbconvert_exporter": "python",
      "pygments_lexer": "ipython3",
      "version": "3.8"
    }
  },
  "nbformat_minor": 5,
  "nbformat": 4,
  "cells": [
    {
      "cell_type": "markdown",
      "source": "import numpy as np\nimport pandas as pd\nimport sklearn",
      "metadata": {},
      "id": "a35eeb9f-df70-4ab1-a243-2d2025888eb0"
    },
    {
      "cell_type": "code",
      "source": "from sklearn.datasets import load_boston\ndf=load_boston()\ndf.keys()\nprint(df.DESCR)",
      "metadata": {},
      "execution_count": null,
      "outputs": [],
      "id": "924cffd1-6aef-445a-a5cf-fe70baf4e1d3"
    },
    {
      "cell_type": "code",
      "source": "boston=pd.Dataframe(df.data, coloumns=df.feature_names)\nboston.head()\nboston['MEDV']=df.target\nboston.head()\nboston.isnull()",
      "metadata": {},
      "execution_count": null,
      "outputs": [],
      "id": "199180c8-7369-4c33-9370-7a93cf360919"
    },
    {
      "cell_type": "code",
      "source": "boston.isnull().sum",
      "metadata": {},
      "execution_count": null,
      "outputs": [],
      "id": "e21ded52-d59a-48c3-9a2a-bbed168942ed"
    },
    {
      "cell_type": "code",
      "source": "from sklearn.model_selection import train_test_split\nX= boston.drop('MEDV', axis=1)\nY=boston['MEDV']\nX_train, X_test, Y_train, Y_test = train_test_split(X,Y, test_size=0.15, random_state=5)\nprint(X_train.shape)\nprint(X_test.shape)\nprint(Y_train.shape)\nprint(Y_test.shape)",
      "metadata": {},
      "execution_count": null,
      "outputs": [],
      "id": "0cfe4d43-c482-467d-8401-60e2c27b112c"
    },
    {
      "cell_type": "code",
      "source": "from sklearn.model_selection import train_test_split\nX= boston.drop('MEDV', axis=1)\nY=boston['MEDV']\nX_train, X_test, Y_train, Y_test = train_test_split(X,Y, test_size=0.15, random_state=5)\nprint(X_train.shape)\nprint(X_test.shape)\nprint(Y_train.shape)\nprint(Y_test.shape)",
      "metadata": {},
      "execution_count": null,
      "outputs": [],
      "id": "3e30368d-f782-4caf-b1ac-9589b00d46bd"
    },
    {
      "cell_type": "code",
      "source": "from sklearn.model_selection import train_test_split\nX= boston.drop('MEDV', axis=1)\nY=boston['MEDV']\nX_train, X_test, Y_train, Y_test = train_test_split(X,Y, test_size=0.15, random_state=5)\nprint(X_train.shape)\nprint(X_test.shape)\nprint(Y_train.shape)\nprint(Y_test.shape)",
      "metadata": {},
      "execution_count": null,
      "outputs": [],
      "id": "22a68832-d2ff-4d36-af7f-a0eb949f0bc5"
    },
    {
      "cell_type": "code",
      "source": "from sklearn.linear_model import Linearregression\nfrom sklearn.metrics import mean_squared_error\nlin_model = LinearRegression()\nlin_model.fit(X_train, Y_train)\nY_train_predict = lin_model.predict(X_train)\nrmse= (np.sqrt(mean_squared_error(Y_train, Y_train_predict)))\nprint(\"Model performance for training set\");\nprint(\"RMSE is {}\",format(rmse))\nprint(\"\\n\")",
      "metadata": {},
      "execution_count": null,
      "outputs": [],
      "id": "7b365203-987e-4098-966b-ba1c0a43fcfa"
    },
    {
      "cell_type": "code",
      "source": "Y_test_predict = lin_model.predict(X_test)\nrmse= (np.sqrt(mean_squared_error(Y_test, Y_test_predict)))\nprint(\"The model performance for testing set\")\nprint(\"RMSE is {}\".format(rmse))",
      "metadata": {},
      "execution_count": null,
      "outputs": [],
      "id": "c9a62421-971a-484f-8922-3e54857a8275"
    },
    {
      "cell_type": "code",
      "source": "print(\"\\n\")",
      "metadata": {},
      "execution_count": null,
      "outputs": [],
      "id": "8d6bf106-32e3-4381-9f4d-a9c729876687"
    },
    {
      "cell_type": "code",
      "source": "",
      "metadata": {},
      "execution_count": null,
      "outputs": [],
      "id": "45bfe713-7779-4fa1-adff-e045f091cd72"
    },
    {
      "cell_type": "code",
      "source": "",
      "metadata": {},
      "execution_count": null,
      "outputs": [],
      "id": "a52e546c-900c-475c-a4fb-7d161ce1b474"
    },
    {
      "cell_type": "code",
      "source": "",
      "metadata": {},
      "execution_count": null,
      "outputs": [],
      "id": "d6eb6f64-e7c7-4e1e-b737-0a1e43b78d20"
    },
    {
      "cell_type": "markdown",
      "source": "## Next steps 🏃\n\nThis is just a short introduction to JupyterLab and Jupyter Notebooks. See below for some more ways to interact with tools in the Jupyter ecosystem, and its community.\n\n### Other notebooks in this demo\n\nHere are some other notebooks in this demo. Each of the items below corresponds to a file or folder in the **file browser to the left**.\n\n- [**`Lorenz.ipynb`**](Lorenz.ipynb) uses Python to demonstrate interactive visualizations and computations around the [Lorenz system](https://en.wikipedia.org/wiki/Lorenz_system). It shows off basic Python functionality, including more visualizations, data structures, and scientific computing libraries.\n- [**`sqlite.ipynb`**](sqlite.ipynb) demonstrates how an in-browser sqlite kernel to run your own SQL commands from the notebook. It uses the [jupyterlite/xeus-sqlite-kernel](https://github.com/jupyterlite/xeus-sqlite-kernel).\n\n### Other sources of information in Jupyter\n\n- **More on using JupyterLab**: See [the JupyterLab documentation](https://jupyterlab.readthedocs.io/en/stable/) for more thorough information about how to install and use JupyterLab.\n- **More interactive demos**: See [try.jupyter.org](https://try.jupyter.org) for more interactive demos with the Jupyter ecosystem.\n- **Learn more about Jupyter**: See [the Jupyter community documentation](https://docs.jupyter.org) to learn more about the project, its community and tools, and how to get involved.\n- **Join our discussions**: The [Jupyter Community Forum](https://discourse.jupyter.org) is a place where many in the Jupyter community ask questions, help one another, and discuss issues around interactive computing and our ecosystem.",
      "metadata": {},
      "id": "b9670d85-ef29-4dfd-b4b5-e76d279c1f1a"
    }
  ]
}